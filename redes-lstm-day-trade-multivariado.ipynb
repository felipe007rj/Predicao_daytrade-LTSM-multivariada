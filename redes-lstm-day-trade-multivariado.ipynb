{
 "cells": [
  {
   "cell_type": "code",
   "execution_count": 1,
   "id": "ece3911f",
   "metadata": {
    "_cell_guid": "b1076dfc-b9ad-4769-8c92-a6c4dae69d19",
    "_uuid": "8f2839f25d086af736a60e9eeb907d3b93b6e0e5",
    "execution": {
     "iopub.execute_input": "2023-09-01T01:56:40.142347Z",
     "iopub.status.busy": "2023-09-01T01:56:40.141830Z",
     "iopub.status.idle": "2023-09-01T01:56:50.598416Z",
     "shell.execute_reply": "2023-09-01T01:56:50.596960Z"
    },
    "papermill": {
     "duration": 10.469884,
     "end_time": "2023-09-01T01:56:50.601402",
     "exception": false,
     "start_time": "2023-09-01T01:56:40.131518",
     "status": "completed"
    },
    "tags": []
   },
   "outputs": [
    {
     "name": "stderr",
     "output_type": "stream",
     "text": [
      "/opt/conda/lib/python3.10/site-packages/scipy/__init__.py:146: UserWarning: A NumPy version >=1.16.5 and <1.23.0 is required for this version of SciPy (detected version 1.23.5\n",
      "  warnings.warn(f\"A NumPy version >={np_minversion} and <{np_maxversion}\"\n",
      "/opt/conda/lib/python3.10/site-packages/tensorflow_io/python/ops/__init__.py:98: UserWarning: unable to load libtensorflow_io_plugins.so: unable to open file: libtensorflow_io_plugins.so, from paths: ['/opt/conda/lib/python3.10/site-packages/tensorflow_io/python/ops/libtensorflow_io_plugins.so']\n",
      "caused by: ['/opt/conda/lib/python3.10/site-packages/tensorflow_io/python/ops/libtensorflow_io_plugins.so: undefined symbol: _ZN3tsl6StatusC1EN10tensorflow5error4CodeESt17basic_string_viewIcSt11char_traitsIcEENS_14SourceLocationE']\n",
      "  warnings.warn(f\"unable to load libtensorflow_io_plugins.so: {e}\")\n",
      "/opt/conda/lib/python3.10/site-packages/tensorflow_io/python/ops/__init__.py:104: UserWarning: file system plugins are not loaded: unable to open file: libtensorflow_io.so, from paths: ['/opt/conda/lib/python3.10/site-packages/tensorflow_io/python/ops/libtensorflow_io.so']\n",
      "caused by: ['/opt/conda/lib/python3.10/site-packages/tensorflow_io/python/ops/libtensorflow_io.so: undefined symbol: _ZTVN10tensorflow13GcsFileSystemE']\n",
      "  warnings.warn(f\"file system plugins are not loaded: {e}\")\n"
     ]
    },
    {
     "name": "stdout",
     "output_type": "stream",
     "text": [
      "/kaggle/input/h1-indice/w1h.csv\n"
     ]
    }
   ],
   "source": [
    "# This Python 3 environment comes with many helpful analytics libraries installed\n",
    "# It is defined by the kaggle/python Docker image: https://github.com/kaggle/docker-python\n",
    "# For example, here's several helpful packages to load\n",
    "\n",
    "import numpy as np # linear algebra\n",
    "import pandas as pd # data processing, CSV file I/O (e.g. pd.read_csv)\n",
    "import numpy as np\n",
    "import pandas as pd\n",
    "import matplotlib.pyplot as plt\n",
    "import datetime as dt\n",
    "from datetime import datetime\n",
    "from keras.models import Sequential\n",
    "from keras.layers import Dense, LSTM, Dropout\n",
    "from keras.optimizers import Adam\n",
    "import tensorflow as tf\n",
    "from keras import metrics\n",
    "from sklearn.preprocessing import StandardScaler\n",
    "\n",
    "from keras.callbacks import EarlyStopping, ReduceLROnPlateau, ModelCheckpoint, TensorBoard\n",
    "%matplotlib inline\n",
    "\n",
    "# Input data files are available in the read-only \"../input/\" directory\n",
    "# For example, running this (by clicking run or pressing Shift+Enter) will list all files under the input directory\n",
    "\n",
    "import os\n",
    "for dirname, _, filenames in os.walk('/kaggle/input'):\n",
    "    for filename in filenames:\n",
    "        print(os.path.join(dirname, filename))\n",
    "\n",
    "# You can write up to 20GB to the current directory (/kaggle/working/) that gets preserved as output when you create a version using \"Save & Run All\" \n",
    "# You can also write temporary files to /kaggle/temp/, but they won't be saved outside of the current session"
   ]
  },
  {
   "cell_type": "code",
   "execution_count": 2,
   "id": "8a4a3b0c",
   "metadata": {
    "execution": {
     "iopub.execute_input": "2023-09-01T01:56:50.620652Z",
     "iopub.status.busy": "2023-09-01T01:56:50.619830Z",
     "iopub.status.idle": "2023-09-01T01:56:50.710014Z",
     "shell.execute_reply": "2023-09-01T01:56:50.708831Z"
    },
    "papermill": {
     "duration": 0.102656,
     "end_time": "2023-09-01T01:56:50.712865",
     "exception": false,
     "start_time": "2023-09-01T01:56:50.610209",
     "status": "completed"
    },
    "tags": []
   },
   "outputs": [
    {
     "data": {
      "text/html": [
       "<div>\n",
       "<style scoped>\n",
       "    .dataframe tbody tr th:only-of-type {\n",
       "        vertical-align: middle;\n",
       "    }\n",
       "\n",
       "    .dataframe tbody tr th {\n",
       "        vertical-align: top;\n",
       "    }\n",
       "\n",
       "    .dataframe thead th {\n",
       "        text-align: right;\n",
       "    }\n",
       "</style>\n",
       "<table border=\"1\" class=\"dataframe\">\n",
       "  <thead>\n",
       "    <tr style=\"text-align: right;\">\n",
       "      <th></th>\n",
       "      <th>Unnamed: 0</th>\n",
       "      <th>time</th>\n",
       "      <th>open</th>\n",
       "      <th>high</th>\n",
       "      <th>low</th>\n",
       "      <th>close</th>\n",
       "      <th>tick_volume</th>\n",
       "      <th>spread</th>\n",
       "      <th>real_volume</th>\n",
       "    </tr>\n",
       "  </thead>\n",
       "  <tbody>\n",
       "    <tr>\n",
       "      <th>0</th>\n",
       "      <td>0</td>\n",
       "      <td>2017-10-13 09:00:00</td>\n",
       "      <td>77085.0</td>\n",
       "      <td>77555.0</td>\n",
       "      <td>76990.0</td>\n",
       "      <td>77350.0</td>\n",
       "      <td>55603</td>\n",
       "      <td>5</td>\n",
       "      <td>196682</td>\n",
       "    </tr>\n",
       "    <tr>\n",
       "      <th>1</th>\n",
       "      <td>1</td>\n",
       "      <td>2017-10-13 10:00:00</td>\n",
       "      <td>77345.0</td>\n",
       "      <td>77485.0</td>\n",
       "      <td>77140.0</td>\n",
       "      <td>77250.0</td>\n",
       "      <td>67446</td>\n",
       "      <td>5</td>\n",
       "      <td>236072</td>\n",
       "    </tr>\n",
       "    <tr>\n",
       "      <th>2</th>\n",
       "      <td>2</td>\n",
       "      <td>2017-10-13 11:00:00</td>\n",
       "      <td>77250.0</td>\n",
       "      <td>77305.0</td>\n",
       "      <td>76835.0</td>\n",
       "      <td>76895.0</td>\n",
       "      <td>69548</td>\n",
       "      <td>5</td>\n",
       "      <td>276329</td>\n",
       "    </tr>\n",
       "    <tr>\n",
       "      <th>3</th>\n",
       "      <td>3</td>\n",
       "      <td>2017-10-13 12:00:00</td>\n",
       "      <td>76905.0</td>\n",
       "      <td>77120.0</td>\n",
       "      <td>76820.0</td>\n",
       "      <td>77105.0</td>\n",
       "      <td>39742</td>\n",
       "      <td>5</td>\n",
       "      <td>168288</td>\n",
       "    </tr>\n",
       "    <tr>\n",
       "      <th>4</th>\n",
       "      <td>4</td>\n",
       "      <td>2017-10-13 13:00:00</td>\n",
       "      <td>77105.0</td>\n",
       "      <td>77150.0</td>\n",
       "      <td>76855.0</td>\n",
       "      <td>76985.0</td>\n",
       "      <td>31165</td>\n",
       "      <td>5</td>\n",
       "      <td>122360</td>\n",
       "    </tr>\n",
       "    <tr>\n",
       "      <th>...</th>\n",
       "      <td>...</td>\n",
       "      <td>...</td>\n",
       "      <td>...</td>\n",
       "      <td>...</td>\n",
       "      <td>...</td>\n",
       "      <td>...</td>\n",
       "      <td>...</td>\n",
       "      <td>...</td>\n",
       "      <td>...</td>\n",
       "    </tr>\n",
       "    <tr>\n",
       "      <th>11641</th>\n",
       "      <td>11641</td>\n",
       "      <td>2022-10-28 16:00:00</td>\n",
       "      <td>115930.0</td>\n",
       "      <td>115990.0</td>\n",
       "      <td>115605.0</td>\n",
       "      <td>115940.0</td>\n",
       "      <td>428811</td>\n",
       "      <td>5</td>\n",
       "      <td>1573295</td>\n",
       "    </tr>\n",
       "    <tr>\n",
       "      <th>11642</th>\n",
       "      <td>11642</td>\n",
       "      <td>2022-10-28 17:00:00</td>\n",
       "      <td>115940.0</td>\n",
       "      <td>117100.0</td>\n",
       "      <td>115905.0</td>\n",
       "      <td>117045.0</td>\n",
       "      <td>476947</td>\n",
       "      <td>5</td>\n",
       "      <td>1427925</td>\n",
       "    </tr>\n",
       "    <tr>\n",
       "      <th>11643</th>\n",
       "      <td>11643</td>\n",
       "      <td>2022-10-31 09:00:00</td>\n",
       "      <td>113000.0</td>\n",
       "      <td>114140.0</td>\n",
       "      <td>112500.0</td>\n",
       "      <td>113410.0</td>\n",
       "      <td>967012</td>\n",
       "      <td>5</td>\n",
       "      <td>2443323</td>\n",
       "    </tr>\n",
       "    <tr>\n",
       "      <th>11644</th>\n",
       "      <td>11644</td>\n",
       "      <td>2022-10-31 10:00:00</td>\n",
       "      <td>113410.0</td>\n",
       "      <td>118135.0</td>\n",
       "      <td>113355.0</td>\n",
       "      <td>117690.0</td>\n",
       "      <td>1301594</td>\n",
       "      <td>5</td>\n",
       "      <td>3910708</td>\n",
       "    </tr>\n",
       "    <tr>\n",
       "      <th>11645</th>\n",
       "      <td>11645</td>\n",
       "      <td>2022-10-31 11:00:00</td>\n",
       "      <td>117685.0</td>\n",
       "      <td>118450.0</td>\n",
       "      <td>116895.0</td>\n",
       "      <td>117295.0</td>\n",
       "      <td>920779</td>\n",
       "      <td>5</td>\n",
       "      <td>2788241</td>\n",
       "    </tr>\n",
       "  </tbody>\n",
       "</table>\n",
       "<p>11646 rows × 9 columns</p>\n",
       "</div>"
      ],
      "text/plain": [
       "       Unnamed: 0                 time      open      high       low  \\\n",
       "0               0  2017-10-13 09:00:00   77085.0   77555.0   76990.0   \n",
       "1               1  2017-10-13 10:00:00   77345.0   77485.0   77140.0   \n",
       "2               2  2017-10-13 11:00:00   77250.0   77305.0   76835.0   \n",
       "3               3  2017-10-13 12:00:00   76905.0   77120.0   76820.0   \n",
       "4               4  2017-10-13 13:00:00   77105.0   77150.0   76855.0   \n",
       "...           ...                  ...       ...       ...       ...   \n",
       "11641       11641  2022-10-28 16:00:00  115930.0  115990.0  115605.0   \n",
       "11642       11642  2022-10-28 17:00:00  115940.0  117100.0  115905.0   \n",
       "11643       11643  2022-10-31 09:00:00  113000.0  114140.0  112500.0   \n",
       "11644       11644  2022-10-31 10:00:00  113410.0  118135.0  113355.0   \n",
       "11645       11645  2022-10-31 11:00:00  117685.0  118450.0  116895.0   \n",
       "\n",
       "          close  tick_volume  spread  real_volume  \n",
       "0       77350.0        55603       5       196682  \n",
       "1       77250.0        67446       5       236072  \n",
       "2       76895.0        69548       5       276329  \n",
       "3       77105.0        39742       5       168288  \n",
       "4       76985.0        31165       5       122360  \n",
       "...         ...          ...     ...          ...  \n",
       "11641  115940.0       428811       5      1573295  \n",
       "11642  117045.0       476947       5      1427925  \n",
       "11643  113410.0       967012       5      2443323  \n",
       "11644  117690.0      1301594       5      3910708  \n",
       "11645  117295.0       920779       5      2788241  \n",
       "\n",
       "[11646 rows x 9 columns]"
      ]
     },
     "execution_count": 2,
     "metadata": {},
     "output_type": "execute_result"
    }
   ],
   "source": [
    "df = pd.read_csv('/kaggle/input/h1-indice/w1h.csv')\n",
    "df"
   ]
  },
  {
   "cell_type": "markdown",
   "id": "397d7adb",
   "metadata": {
    "papermill": {
     "duration": 0.008153,
     "end_time": "2023-09-01T01:56:50.729496",
     "exception": false,
     "start_time": "2023-09-01T01:56:50.721343",
     "status": "completed"
    },
    "tags": []
   },
   "source": [
    "### Retirada de colunas e a ultima linha"
   ]
  },
  {
   "cell_type": "code",
   "execution_count": 3,
   "id": "5cd2d6ba",
   "metadata": {
    "execution": {
     "iopub.execute_input": "2023-09-01T01:56:50.749036Z",
     "iopub.status.busy": "2023-09-01T01:56:50.747914Z",
     "iopub.status.idle": "2023-09-01T01:56:50.768147Z",
     "shell.execute_reply": "2023-09-01T01:56:50.766965Z"
    },
    "papermill": {
     "duration": 0.032723,
     "end_time": "2023-09-01T01:56:50.770673",
     "exception": false,
     "start_time": "2023-09-01T01:56:50.737950",
     "status": "completed"
    },
    "tags": []
   },
   "outputs": [
    {
     "data": {
      "text/html": [
       "<div>\n",
       "<style scoped>\n",
       "    .dataframe tbody tr th:only-of-type {\n",
       "        vertical-align: middle;\n",
       "    }\n",
       "\n",
       "    .dataframe tbody tr th {\n",
       "        vertical-align: top;\n",
       "    }\n",
       "\n",
       "    .dataframe thead th {\n",
       "        text-align: right;\n",
       "    }\n",
       "</style>\n",
       "<table border=\"1\" class=\"dataframe\">\n",
       "  <thead>\n",
       "    <tr style=\"text-align: right;\">\n",
       "      <th></th>\n",
       "      <th>time</th>\n",
       "      <th>open</th>\n",
       "      <th>close</th>\n",
       "    </tr>\n",
       "  </thead>\n",
       "  <tbody>\n",
       "    <tr>\n",
       "      <th>0</th>\n",
       "      <td>2017-10-13 09:00:00</td>\n",
       "      <td>77085.0</td>\n",
       "      <td>77350.0</td>\n",
       "    </tr>\n",
       "    <tr>\n",
       "      <th>1</th>\n",
       "      <td>2017-10-13 10:00:00</td>\n",
       "      <td>77345.0</td>\n",
       "      <td>77250.0</td>\n",
       "    </tr>\n",
       "    <tr>\n",
       "      <th>2</th>\n",
       "      <td>2017-10-13 11:00:00</td>\n",
       "      <td>77250.0</td>\n",
       "      <td>76895.0</td>\n",
       "    </tr>\n",
       "    <tr>\n",
       "      <th>3</th>\n",
       "      <td>2017-10-13 12:00:00</td>\n",
       "      <td>76905.0</td>\n",
       "      <td>77105.0</td>\n",
       "    </tr>\n",
       "    <tr>\n",
       "      <th>4</th>\n",
       "      <td>2017-10-13 13:00:00</td>\n",
       "      <td>77105.0</td>\n",
       "      <td>76985.0</td>\n",
       "    </tr>\n",
       "    <tr>\n",
       "      <th>...</th>\n",
       "      <td>...</td>\n",
       "      <td>...</td>\n",
       "      <td>...</td>\n",
       "    </tr>\n",
       "    <tr>\n",
       "      <th>11641</th>\n",
       "      <td>2022-10-28 16:00:00</td>\n",
       "      <td>115930.0</td>\n",
       "      <td>115940.0</td>\n",
       "    </tr>\n",
       "    <tr>\n",
       "      <th>11642</th>\n",
       "      <td>2022-10-28 17:00:00</td>\n",
       "      <td>115940.0</td>\n",
       "      <td>117045.0</td>\n",
       "    </tr>\n",
       "    <tr>\n",
       "      <th>11643</th>\n",
       "      <td>2022-10-31 09:00:00</td>\n",
       "      <td>113000.0</td>\n",
       "      <td>113410.0</td>\n",
       "    </tr>\n",
       "    <tr>\n",
       "      <th>11644</th>\n",
       "      <td>2022-10-31 10:00:00</td>\n",
       "      <td>113410.0</td>\n",
       "      <td>117690.0</td>\n",
       "    </tr>\n",
       "    <tr>\n",
       "      <th>11645</th>\n",
       "      <td>2022-10-31 11:00:00</td>\n",
       "      <td>117685.0</td>\n",
       "      <td>117295.0</td>\n",
       "    </tr>\n",
       "  </tbody>\n",
       "</table>\n",
       "<p>11646 rows × 3 columns</p>\n",
       "</div>"
      ],
      "text/plain": [
       "                      time      open     close\n",
       "0      2017-10-13 09:00:00   77085.0   77350.0\n",
       "1      2017-10-13 10:00:00   77345.0   77250.0\n",
       "2      2017-10-13 11:00:00   77250.0   76895.0\n",
       "3      2017-10-13 12:00:00   76905.0   77105.0\n",
       "4      2017-10-13 13:00:00   77105.0   76985.0\n",
       "...                    ...       ...       ...\n",
       "11641  2022-10-28 16:00:00  115930.0  115940.0\n",
       "11642  2022-10-28 17:00:00  115940.0  117045.0\n",
       "11643  2022-10-31 09:00:00  113000.0  113410.0\n",
       "11644  2022-10-31 10:00:00  113410.0  117690.0\n",
       "11645  2022-10-31 11:00:00  117685.0  117295.0\n",
       "\n",
       "[11646 rows x 3 columns]"
      ]
     },
     "execution_count": 3,
     "metadata": {},
     "output_type": "execute_result"
    }
   ],
   "source": [
    "df = df.drop(df.columns[[0,3,4,6,7,8]],axis=1)\n",
    "df"
   ]
  },
  {
   "cell_type": "markdown",
   "id": "36566001",
   "metadata": {
    "papermill": {
     "duration": 0.00853,
     "end_time": "2023-09-01T01:56:50.788054",
     "exception": false,
     "start_time": "2023-09-01T01:56:50.779524",
     "status": "completed"
    },
    "tags": []
   },
   "source": [
    "### Adicionando features ao modelo como médias móveis, RSI, Hora e indicador de gap."
   ]
  },
  {
   "cell_type": "code",
   "execution_count": 4,
   "id": "991f7fc4",
   "metadata": {
    "execution": {
     "iopub.execute_input": "2023-09-01T01:56:50.808481Z",
     "iopub.status.busy": "2023-09-01T01:56:50.807634Z",
     "iopub.status.idle": "2023-09-01T01:56:51.130002Z",
     "shell.execute_reply": "2023-09-01T01:56:51.128837Z"
    },
    "papermill": {
     "duration": 0.336008,
     "end_time": "2023-09-01T01:56:51.133203",
     "exception": false,
     "start_time": "2023-09-01T01:56:50.797195",
     "status": "completed"
    },
    "tags": []
   },
   "outputs": [
    {
     "data": {
      "text/html": [
       "<div>\n",
       "<style scoped>\n",
       "    .dataframe tbody tr th:only-of-type {\n",
       "        vertical-align: middle;\n",
       "    }\n",
       "\n",
       "    .dataframe tbody tr th {\n",
       "        vertical-align: top;\n",
       "    }\n",
       "\n",
       "    .dataframe thead th {\n",
       "        text-align: right;\n",
       "    }\n",
       "</style>\n",
       "<table border=\"1\" class=\"dataframe\">\n",
       "  <thead>\n",
       "    <tr style=\"text-align: right;\">\n",
       "      <th></th>\n",
       "      <th>time</th>\n",
       "      <th>open</th>\n",
       "      <th>close</th>\n",
       "      <th>media_9</th>\n",
       "      <th>RSI</th>\n",
       "      <th>gap_indicator</th>\n",
       "    </tr>\n",
       "  </thead>\n",
       "  <tbody>\n",
       "    <tr>\n",
       "      <th>35</th>\n",
       "      <td>2017-10-18 15:00:00</td>\n",
       "      <td>77215.0</td>\n",
       "      <td>77390.0</td>\n",
       "      <td>76827.852855</td>\n",
       "      <td>67.478261</td>\n",
       "      <td>0</td>\n",
       "    </tr>\n",
       "    <tr>\n",
       "      <th>36</th>\n",
       "      <td>2017-10-18 16:00:00</td>\n",
       "      <td>77390.0</td>\n",
       "      <td>77460.0</td>\n",
       "      <td>76885.363185</td>\n",
       "      <td>75.849057</td>\n",
       "      <td>0</td>\n",
       "    </tr>\n",
       "    <tr>\n",
       "      <th>37</th>\n",
       "      <td>2017-10-18 17:00:00</td>\n",
       "      <td>77455.0</td>\n",
       "      <td>77380.0</td>\n",
       "      <td>76944.016087</td>\n",
       "      <td>71.314741</td>\n",
       "      <td>0</td>\n",
       "    </tr>\n",
       "    <tr>\n",
       "      <th>38</th>\n",
       "      <td>2017-10-18 18:00:00</td>\n",
       "      <td>77390.0</td>\n",
       "      <td>77435.0</td>\n",
       "      <td>76988.424850</td>\n",
       "      <td>74.245473</td>\n",
       "      <td>1</td>\n",
       "    </tr>\n",
       "    <tr>\n",
       "      <th>39</th>\n",
       "      <td>2017-10-19 09:00:00</td>\n",
       "      <td>76910.0</td>\n",
       "      <td>76860.0</td>\n",
       "      <td>77033.828030</td>\n",
       "      <td>59.228188</td>\n",
       "      <td>0</td>\n",
       "    </tr>\n",
       "    <tr>\n",
       "      <th>...</th>\n",
       "      <td>...</td>\n",
       "      <td>...</td>\n",
       "      <td>...</td>\n",
       "      <td>...</td>\n",
       "      <td>...</td>\n",
       "      <td>...</td>\n",
       "    </tr>\n",
       "    <tr>\n",
       "      <th>11641</th>\n",
       "      <td>2022-10-28 16:00:00</td>\n",
       "      <td>115930.0</td>\n",
       "      <td>115940.0</td>\n",
       "      <td>115888.964612</td>\n",
       "      <td>56.777251</td>\n",
       "      <td>0</td>\n",
       "    </tr>\n",
       "    <tr>\n",
       "      <th>11642</th>\n",
       "      <td>2022-10-28 17:00:00</td>\n",
       "      <td>115940.0</td>\n",
       "      <td>117045.0</td>\n",
       "      <td>115894.068151</td>\n",
       "      <td>61.058924</td>\n",
       "      <td>0</td>\n",
       "    </tr>\n",
       "    <tr>\n",
       "      <th>11643</th>\n",
       "      <td>2022-10-31 09:00:00</td>\n",
       "      <td>113000.0</td>\n",
       "      <td>113410.0</td>\n",
       "      <td>116009.161336</td>\n",
       "      <td>36.568365</td>\n",
       "      <td>0</td>\n",
       "    </tr>\n",
       "    <tr>\n",
       "      <th>11644</th>\n",
       "      <td>2022-10-31 10:00:00</td>\n",
       "      <td>113410.0</td>\n",
       "      <td>117690.0</td>\n",
       "      <td>115749.245202</td>\n",
       "      <td>56.564914</td>\n",
       "      <td>0</td>\n",
       "    </tr>\n",
       "    <tr>\n",
       "      <th>11645</th>\n",
       "      <td>2022-10-31 11:00:00</td>\n",
       "      <td>117685.0</td>\n",
       "      <td>117295.0</td>\n",
       "      <td>115943.320682</td>\n",
       "      <td>54.708843</td>\n",
       "      <td>0</td>\n",
       "    </tr>\n",
       "  </tbody>\n",
       "</table>\n",
       "<p>11611 rows × 6 columns</p>\n",
       "</div>"
      ],
      "text/plain": [
       "                     time      open     close        media_9        RSI  \\\n",
       "35    2017-10-18 15:00:00   77215.0   77390.0   76827.852855  67.478261   \n",
       "36    2017-10-18 16:00:00   77390.0   77460.0   76885.363185  75.849057   \n",
       "37    2017-10-18 17:00:00   77455.0   77380.0   76944.016087  71.314741   \n",
       "38    2017-10-18 18:00:00   77390.0   77435.0   76988.424850  74.245473   \n",
       "39    2017-10-19 09:00:00   76910.0   76860.0   77033.828030  59.228188   \n",
       "...                   ...       ...       ...            ...        ...   \n",
       "11641 2022-10-28 16:00:00  115930.0  115940.0  115888.964612  56.777251   \n",
       "11642 2022-10-28 17:00:00  115940.0  117045.0  115894.068151  61.058924   \n",
       "11643 2022-10-31 09:00:00  113000.0  113410.0  116009.161336  36.568365   \n",
       "11644 2022-10-31 10:00:00  113410.0  117690.0  115749.245202  56.564914   \n",
       "11645 2022-10-31 11:00:00  117685.0  117295.0  115943.320682  54.708843   \n",
       "\n",
       "       gap_indicator  \n",
       "35                 0  \n",
       "36                 0  \n",
       "37                 0  \n",
       "38                 1  \n",
       "39                 0  \n",
       "...              ...  \n",
       "11641              0  \n",
       "11642              0  \n",
       "11643              0  \n",
       "11644              0  \n",
       "11645              0  \n",
       "\n",
       "[11611 rows x 6 columns]"
      ]
     },
     "execution_count": 4,
     "metadata": {},
     "output_type": "execute_result"
    }
   ],
   "source": [
    "df['media_9'] = df['close'].ewm(9).mean().shift()\n",
    "df = df.drop(df.index[:21])\n",
    "\n",
    "def relative_strength_idx(df, n=14):\n",
    "    close = df['close']  # Use 'close' em vez de 'close'\n",
    "    delta = close.diff()\n",
    "    delta = delta.iloc[1:]\n",
    "    pricesUp = delta.copy()\n",
    "    pricesDown = delta.copy()\n",
    "    pricesUp[pricesUp < 0] = 0\n",
    "    pricesDown[pricesDown > 0] = 0\n",
    "    rollUp = pricesUp.rolling(n).mean()\n",
    "    rollDown = pricesDown.abs().rolling(n).mean()\n",
    "    rs = rollUp / rollDown\n",
    "    rsi = 100.0 - (100.0 / (1.0 + rs))\n",
    "    return rsi\n",
    "\n",
    "df['RSI'] = relative_strength_idx(df).fillna(0)\n",
    "df = df[df['RSI'].notna() & (df['RSI'] != 0)]\n",
    "\n",
    "df['time'] = pd.to_datetime(df['time'])\n",
    "\n",
    "# coluna indicadora de gap\n",
    "df['gap_indicator'] = ((df['time'].dt.hour >= 18) | (df['time'].dt.hour < 9)).astype(int)\n",
    "dflist = pd.to_datetime(df['time'])\n",
    "\n",
    "df"
   ]
  },
  {
   "cell_type": "markdown",
   "id": "6ae47d5d",
   "metadata": {
    "papermill": {
     "duration": 0.008833,
     "end_time": "2023-09-01T01:56:51.151352",
     "exception": false,
     "start_time": "2023-09-01T01:56:51.142519",
     "status": "completed"
    },
    "tags": []
   },
   "source": [
    "### Separando coluna time do df e fazendo ajustes no shape"
   ]
  },
  {
   "cell_type": "code",
   "execution_count": 5,
   "id": "d710e89b",
   "metadata": {
    "execution": {
     "iopub.execute_input": "2023-09-01T01:56:51.174154Z",
     "iopub.status.busy": "2023-09-01T01:56:51.173715Z",
     "iopub.status.idle": "2023-09-01T01:57:10.140581Z",
     "shell.execute_reply": "2023-09-01T01:57:10.139283Z"
    },
    "papermill": {
     "duration": 18.980336,
     "end_time": "2023-09-01T01:57:10.143342",
     "exception": false,
     "start_time": "2023-09-01T01:56:51.163006",
     "status": "completed"
    },
    "tags": []
   },
   "outputs": [
    {
     "name": "stdout",
     "output_type": "stream",
     "text": [
      "shape_treino == (11611, 6)\n",
      "All timestamps == 11611\n",
      "Features: ==['open', 'close', 'media_9', 'RSI', 'gap_indicator']\n",
      "shape do modelo == (11611, 5).\n"
     ]
    }
   ],
   "source": [
    "cols = list(df)[1:6]\n",
    "cols\n",
    "print('shape_treino == {}'.format(df.shape))\n",
    "print('All timestamps == {}'.format(len(dflist)))\n",
    "print('Features: =={}'.format(cols))\n",
    "df = df[cols].astype(str)\n",
    "\n",
    "for i in cols:\n",
    "    for j in range(35, len(df)):\n",
    "        df[i][j] = df[i][j].replace(',', '')\n",
    "\n",
    "df = df.astype(float)\n",
    "\n",
    "# Usando multiplas features\n",
    "training_set = df.values\n",
    "\n",
    "print('shape do modelo == {}.'.format(training_set.shape))"
   ]
  },
  {
   "cell_type": "markdown",
   "id": "36028d44",
   "metadata": {
    "papermill": {
     "duration": 0.009249,
     "end_time": "2023-09-01T01:57:10.162233",
     "exception": false,
     "start_time": "2023-09-01T01:57:10.152984",
     "status": "completed"
    },
    "tags": []
   },
   "source": [
    "### Normalização dos dados usando StandardScaler, separando as features do target."
   ]
  },
  {
   "cell_type": "code",
   "execution_count": 6,
   "id": "ea11a762",
   "metadata": {
    "execution": {
     "iopub.execute_input": "2023-09-01T01:57:10.183847Z",
     "iopub.status.busy": "2023-09-01T01:57:10.183454Z",
     "iopub.status.idle": "2023-09-01T01:57:10.301927Z",
     "shell.execute_reply": "2023-09-01T01:57:10.300583Z"
    },
    "papermill": {
     "duration": 0.132268,
     "end_time": "2023-09-01T01:57:10.304687",
     "exception": false,
     "start_time": "2023-09-01T01:57:10.172419",
     "status": "completed"
    },
    "tags": []
   },
   "outputs": [
    {
     "name": "stdout",
     "output_type": "stream",
     "text": [
      "X_train shape == (11411, 200, 4).\n",
      "y_train shape == (11411, 1).\n"
     ]
    }
   ],
   "source": [
    "sc = StandardScaler()\n",
    "training_set_scaled = sc.fit_transform(training_set)\n",
    "\n",
    "sc_predict = StandardScaler()\n",
    "sc_predict.fit_transform(training_set[:, 0:1])\n",
    "X_train = []\n",
    "y_train = []\n",
    "\n",
    "# Numero de linhas no passado usadas para prever o futuro\n",
    "n_future = 1   \n",
    "n_past = 200\n",
    "\n",
    "\n",
    "for i in range(n_past, len(training_set_scaled) - n_future +1):\n",
    "    X_train.append(training_set_scaled[i - n_past:i, 0:df.shape[1] - 1])\n",
    "    y_train.append(training_set_scaled[i + n_future - 1:i + n_future, 1]) # target (close)\n",
    "\n",
    "X_train, y_train = np.array(X_train), np.array(y_train)\n",
    "\n",
    "print('X_train shape == {}.'.format(X_train.shape))\n",
    "print('y_train shape == {}.'.format(y_train.shape))"
   ]
  },
  {
   "cell_type": "markdown",
   "id": "993e24d8",
   "metadata": {
    "papermill": {
     "duration": 0.009228,
     "end_time": "2023-09-01T01:57:10.323529",
     "exception": false,
     "start_time": "2023-09-01T01:57:10.314301",
     "status": "completed"
    },
    "tags": []
   },
   "source": [
    "### Usando rede sequencial do Keras e deep learning com 4 camadas."
   ]
  },
  {
   "cell_type": "code",
   "execution_count": 7,
   "id": "4047c845",
   "metadata": {
    "execution": {
     "iopub.execute_input": "2023-09-01T01:57:10.344807Z",
     "iopub.status.busy": "2023-09-01T01:57:10.344405Z",
     "iopub.status.idle": "2023-09-01T01:57:11.258347Z",
     "shell.execute_reply": "2023-09-01T01:57:11.257143Z"
    },
    "papermill": {
     "duration": 0.928091,
     "end_time": "2023-09-01T01:57:11.261433",
     "exception": false,
     "start_time": "2023-09-01T01:57:10.333342",
     "status": "completed"
    },
    "tags": []
   },
   "outputs": [],
   "source": [
    "model = Sequential()\n",
    "\n",
    "# Adding 1st LSTM layer\n",
    "model.add(LSTM(units=100, return_sequences=True, input_shape=(n_past, df.shape[1]-1)))\n",
    "\n",
    "# Adding 2nd LSTM layer\n",
    "model.add(LSTM(units=50, return_sequences=False))\n",
    "\n",
    "# Adding Dropout\n",
    "model.add(Dropout(0.25))\n",
    "\n",
    "# Output layer\n",
    "model.add(Dense(units=1, activation='linear'))\n",
    "\n",
    "# Compiling the Neural Network\n",
    "model.compile(optimizer = Adam(learning_rate=0.01), loss='mean_squared_error')"
   ]
  },
  {
   "cell_type": "markdown",
   "id": "9f57968c",
   "metadata": {
    "papermill": {
     "duration": 0.009315,
     "end_time": "2023-09-01T01:57:11.280309",
     "exception": false,
     "start_time": "2023-09-01T01:57:11.270994",
     "status": "completed"
    },
    "tags": []
   },
   "source": [
    "### treinamento do modelo com uso de callbacks para ajuda a evitar o (overfitting) e a otimizar a convergência do treinamento."
   ]
  },
  {
   "cell_type": "code",
   "execution_count": 8,
   "id": "31aae50b",
   "metadata": {
    "execution": {
     "iopub.execute_input": "2023-09-01T01:57:11.301725Z",
     "iopub.status.busy": "2023-09-01T01:57:11.301331Z",
     "iopub.status.idle": "2023-09-01T02:19:40.983342Z",
     "shell.execute_reply": "2023-09-01T02:19:40.982324Z"
    },
    "papermill": {
     "duration": 1350.040799,
     "end_time": "2023-09-01T02:19:41.331016",
     "exception": false,
     "start_time": "2023-09-01T01:57:11.290217",
     "status": "completed"
    },
    "tags": []
   },
   "outputs": [
    {
     "name": "stdout",
     "output_type": "stream",
     "text": [
      "Epoch 1/200\n",
      "92/92 [==============================] - ETA: 0s - loss: 0.0424\n",
      "Epoch 1: val_loss improved from inf to 0.00686, saving model to weights.h5\n",
      "92/92 [==============================] - 48s 478ms/step - loss: 0.0424 - val_loss: 0.0069 - lr: 0.0100\n",
      "Epoch 2/200\n",
      "92/92 [==============================] - ETA: 0s - loss: 0.0141\n",
      "Epoch 2: val_loss improved from 0.00686 to 0.00239, saving model to weights.h5\n",
      "92/92 [==============================] - 42s 459ms/step - loss: 0.0141 - val_loss: 0.0024 - lr: 0.0100\n",
      "Epoch 3/200\n",
      "92/92 [==============================] - ETA: 0s - loss: 0.0126\n",
      "Epoch 3: val_loss did not improve from 0.00239\n",
      "92/92 [==============================] - 42s 462ms/step - loss: 0.0126 - val_loss: 0.0026 - lr: 0.0100\n",
      "Epoch 4/200\n",
      "92/92 [==============================] - ETA: 0s - loss: 0.0119\n",
      "Epoch 4: val_loss improved from 0.00239 to 0.00198, saving model to weights.h5\n",
      "92/92 [==============================] - 43s 465ms/step - loss: 0.0119 - val_loss: 0.0020 - lr: 0.0100\n",
      "Epoch 5/200\n",
      "92/92 [==============================] - ETA: 0s - loss: 0.0115\n",
      "Epoch 5: val_loss improved from 0.00198 to 0.00195, saving model to weights.h5\n",
      "92/92 [==============================] - 44s 484ms/step - loss: 0.0115 - val_loss: 0.0020 - lr: 0.0100\n",
      "Epoch 6/200\n",
      "92/92 [==============================] - ETA: 0s - loss: 0.0112\n",
      "Epoch 6: val_loss did not improve from 0.00195\n",
      "92/92 [==============================] - 44s 477ms/step - loss: 0.0112 - val_loss: 0.0027 - lr: 0.0100\n",
      "Epoch 7/200\n",
      "92/92 [==============================] - ETA: 0s - loss: 0.0114\n",
      "Epoch 7: val_loss improved from 0.00195 to 0.00177, saving model to weights.h5\n",
      "92/92 [==============================] - 43s 472ms/step - loss: 0.0114 - val_loss: 0.0018 - lr: 0.0100\n",
      "Epoch 8/200\n",
      "92/92 [==============================] - ETA: 0s - loss: 0.0112\n",
      "Epoch 8: val_loss did not improve from 0.00177\n",
      "92/92 [==============================] - 43s 467ms/step - loss: 0.0112 - val_loss: 0.0034 - lr: 0.0100\n",
      "Epoch 9/200\n",
      "92/92 [==============================] - ETA: 0s - loss: 0.0108\n",
      "Epoch 9: val_loss did not improve from 0.00177\n",
      "92/92 [==============================] - 43s 472ms/step - loss: 0.0108 - val_loss: 0.0032 - lr: 0.0100\n",
      "Epoch 10/200\n",
      "92/92 [==============================] - ETA: 0s - loss: 0.0108\n",
      "Epoch 10: val_loss improved from 0.00177 to 0.00155, saving model to weights.h5\n",
      "92/92 [==============================] - 43s 466ms/step - loss: 0.0108 - val_loss: 0.0015 - lr: 0.0100\n",
      "Epoch 11/200\n",
      "92/92 [==============================] - ETA: 0s - loss: 0.0109\n",
      "Epoch 11: val_loss did not improve from 0.00155\n",
      "92/92 [==============================] - 43s 464ms/step - loss: 0.0109 - val_loss: 0.0026 - lr: 0.0100\n",
      "Epoch 12/200\n",
      "92/92 [==============================] - ETA: 0s - loss: 0.0111\n",
      "Epoch 12: val_loss did not improve from 0.00155\n",
      "92/92 [==============================] - 44s 481ms/step - loss: 0.0111 - val_loss: 0.0018 - lr: 0.0100\n",
      "Epoch 13/200\n",
      "92/92 [==============================] - ETA: 0s - loss: 0.0111\n",
      "Epoch 13: val_loss improved from 0.00155 to 0.00148, saving model to weights.h5\n",
      "92/92 [==============================] - 42s 458ms/step - loss: 0.0111 - val_loss: 0.0015 - lr: 0.0100\n",
      "Epoch 14/200\n",
      "92/92 [==============================] - ETA: 0s - loss: 0.0097\n",
      "Epoch 14: val_loss did not improve from 0.00148\n",
      "92/92 [==============================] - 43s 468ms/step - loss: 0.0097 - val_loss: 0.0015 - lr: 0.0100\n",
      "Epoch 15/200\n",
      "92/92 [==============================] - ETA: 0s - loss: 0.0104\n",
      "Epoch 15: val_loss improved from 0.00148 to 0.00145, saving model to weights.h5\n",
      "92/92 [==============================] - 43s 466ms/step - loss: 0.0104 - val_loss: 0.0015 - lr: 0.0100\n",
      "Epoch 16/200\n",
      "92/92 [==============================] - ETA: 0s - loss: 0.0106\n",
      "Epoch 16: val_loss did not improve from 0.00145\n",
      "92/92 [==============================] - 44s 480ms/step - loss: 0.0106 - val_loss: 0.0016 - lr: 0.0100\n",
      "Epoch 17/200\n",
      "92/92 [==============================] - ETA: 0s - loss: 0.0104\n",
      "Epoch 17: val_loss did not improve from 0.00145\n",
      "92/92 [==============================] - 43s 470ms/step - loss: 0.0104 - val_loss: 0.0017 - lr: 0.0100\n",
      "Epoch 18/200\n",
      "92/92 [==============================] - ETA: 0s - loss: 0.0103\n",
      "Epoch 18: val_loss improved from 0.00145 to 0.00143, saving model to weights.h5\n",
      "92/92 [==============================] - 43s 470ms/step - loss: 0.0103 - val_loss: 0.0014 - lr: 0.0100\n",
      "Epoch 19/200\n",
      "92/92 [==============================] - ETA: 0s - loss: 0.0101\n",
      "Epoch 19: val_loss did not improve from 0.00143\n",
      "92/92 [==============================] - 44s 476ms/step - loss: 0.0101 - val_loss: 0.0022 - lr: 0.0100\n",
      "Epoch 20/200\n",
      "92/92 [==============================] - ETA: 0s - loss: 0.0098\n",
      "Epoch 20: val_loss improved from 0.00143 to 0.00140, saving model to weights.h5\n",
      "92/92 [==============================] - 44s 473ms/step - loss: 0.0098 - val_loss: 0.0014 - lr: 0.0100\n",
      "Epoch 21/200\n",
      "92/92 [==============================] - ETA: 0s - loss: 0.0101\n",
      "Epoch 21: val_loss improved from 0.00140 to 0.00125, saving model to weights.h5\n",
      "92/92 [==============================] - 44s 478ms/step - loss: 0.0101 - val_loss: 0.0012 - lr: 0.0100\n",
      "Epoch 22/200\n",
      "92/92 [==============================] - ETA: 0s - loss: 0.0101\n",
      "Epoch 22: val_loss did not improve from 0.00125\n",
      "92/92 [==============================] - 42s 461ms/step - loss: 0.0101 - val_loss: 0.0036 - lr: 0.0100\n",
      "Epoch 23/200\n",
      "92/92 [==============================] - ETA: 0s - loss: 0.0102\n",
      "Epoch 23: val_loss did not improve from 0.00125\n",
      "92/92 [==============================] - 43s 473ms/step - loss: 0.0102 - val_loss: 0.0038 - lr: 0.0100\n",
      "Epoch 24/200\n",
      "92/92 [==============================] - ETA: 0s - loss: 0.0103\n",
      "Epoch 24: val_loss did not improve from 0.00125\n",
      "92/92 [==============================] - 43s 463ms/step - loss: 0.0103 - val_loss: 0.0020 - lr: 0.0100\n",
      "Epoch 25/200\n",
      "92/92 [==============================] - ETA: 0s - loss: 0.0098\n",
      "Epoch 25: val_loss did not improve from 0.00125\n",
      "92/92 [==============================] - 43s 467ms/step - loss: 0.0098 - val_loss: 0.0023 - lr: 0.0100\n",
      "Epoch 26/200\n",
      "92/92 [==============================] - ETA: 0s - loss: 0.0109\n",
      "Epoch 26: val_loss did not improve from 0.00125\n",
      "92/92 [==============================] - 43s 471ms/step - loss: 0.0109 - val_loss: 0.0026 - lr: 0.0100\n",
      "Epoch 27/200\n",
      "92/92 [==============================] - ETA: 0s - loss: 0.0101\n",
      "Epoch 27: val_loss did not improve from 0.00125\n",
      "92/92 [==============================] - 45s 495ms/step - loss: 0.0101 - val_loss: 0.0013 - lr: 0.0100\n",
      "Epoch 28/200\n",
      "92/92 [==============================] - ETA: 0s - loss: 0.0098\n",
      "Epoch 28: val_loss did not improve from 0.00125\n",
      "92/92 [==============================] - 45s 488ms/step - loss: 0.0098 - val_loss: 0.0018 - lr: 0.0100\n",
      "Epoch 29/200\n",
      "92/92 [==============================] - ETA: 0s - loss: 0.0099\n",
      "Epoch 29: val_loss did not improve from 0.00125\n",
      "92/92 [==============================] - 45s 484ms/step - loss: 0.0099 - val_loss: 0.0031 - lr: 0.0100\n",
      "Epoch 30/200\n",
      "92/92 [==============================] - ETA: 0s - loss: 0.0096\n",
      "Epoch 30: val_loss did not improve from 0.00125\n",
      "92/92 [==============================] - 44s 476ms/step - loss: 0.0096 - val_loss: 0.0014 - lr: 0.0100\n",
      "Epoch 31/200\n",
      "92/92 [==============================] - ETA: 0s - loss: 0.0100\n",
      "Epoch 31: ReduceLROnPlateau reducing learning rate to 0.004999999888241291.\n",
      "\n",
      "Epoch 31: val_loss did not improve from 0.00125\n",
      "92/92 [==============================] - 43s 466ms/step - loss: 0.0100 - val_loss: 0.0018 - lr: 0.0100\n",
      "Epoch 31: early stopping\n"
     ]
    }
   ],
   "source": [
    "es = EarlyStopping(monitor='val_loss', min_delta=1e-10, patience=10, verbose=1)\n",
    "rlr = ReduceLROnPlateau(monitor='val_loss', factor=0.5, patience=10, verbose=1)\n",
    "mcp = ModelCheckpoint(filepath='weights.h5', monitor='val_loss', verbose=1, save_best_only=True, save_weights_only=True)\n",
    "\n",
    "tb = TensorBoard('logs')\n",
    "\n",
    "\n",
    "history = model.fit(X_train, y_train, shuffle=True, epochs=200, callbacks=[es, rlr, mcp, tb], validation_split=0.2, verbose=1, batch_size=100)"
   ]
  },
  {
   "cell_type": "code",
   "execution_count": 9,
   "id": "216eaf7e",
   "metadata": {
    "execution": {
     "iopub.execute_input": "2023-09-01T02:19:41.882818Z",
     "iopub.status.busy": "2023-09-01T02:19:41.882387Z",
     "iopub.status.idle": "2023-09-01T02:21:00.411892Z",
     "shell.execute_reply": "2023-09-01T02:21:00.410930Z"
    },
    "papermill": {
     "duration": 79.082924,
     "end_time": "2023-09-01T02:21:00.689185",
     "exception": false,
     "start_time": "2023-09-01T02:19:41.606261",
     "status": "completed"
    },
    "tags": []
   },
   "outputs": [
    {
     "name": "stdout",
     "output_type": "stream",
     "text": [
      "Acurácia do modelo: 21.182002563901992\n"
     ]
    }
   ],
   "source": [
    "loss = model.evaluate(X_train, y_train, verbose=0)\n",
    "accuracy = 1.0 / np.sqrt(loss)\n",
    "print(\"Acurácia do modelo:\", accuracy)"
   ]
  },
  {
   "cell_type": "code",
   "execution_count": 10,
   "id": "d5cea437",
   "metadata": {
    "execution": {
     "iopub.execute_input": "2023-09-01T02:21:01.245990Z",
     "iopub.status.busy": "2023-09-01T02:21:01.245562Z",
     "iopub.status.idle": "2023-09-01T02:21:02.179272Z",
     "shell.execute_reply": "2023-09-01T02:21:02.178040Z"
    },
    "papermill": {
     "duration": 1.216476,
     "end_time": "2023-09-01T02:21:02.181476",
     "exception": false,
     "start_time": "2023-09-01T02:21:00.965000",
     "status": "completed"
    },
    "tags": []
   },
   "outputs": [
    {
     "name": "stdout",
     "output_type": "stream",
     "text": [
      "1/1 [==============================] - 1s 872ms/step\n",
      "Previsão do valor de fechamento: [[116887.016]]\n"
     ]
    }
   ],
   "source": [
    "last_inputs = training_set_scaled[-n_past:, 0:df.shape[1] - 1]\n",
    "\n",
    "# Redimensionando os últimos dados para ter as mesmas dimensões que o X_train\n",
    "last_inputs = np.reshape(last_inputs, (1, n_past, df.shape[1] - 1))\n",
    "\n",
    "# Fazendo a previsão\n",
    "predicted_scaled = model.predict(last_inputs)\n",
    "\n",
    "# Invertendo a escala da previsão para obter o valor real\n",
    "predicted = sc_predict.inverse_transform(predicted_scaled)\n",
    "\n",
    "print(\"Previsão do valor de fechamento:\", predicted)\n"
   ]
  },
  {
   "cell_type": "code",
   "execution_count": 11,
   "id": "4e8b8cef",
   "metadata": {
    "execution": {
     "iopub.execute_input": "2023-09-01T02:21:02.732723Z",
     "iopub.status.busy": "2023-09-01T02:21:02.732304Z",
     "iopub.status.idle": "2023-09-01T02:21:03.649348Z",
     "shell.execute_reply": "2023-09-01T02:21:03.648405Z"
    },
    "papermill": {
     "duration": 1.19603,
     "end_time": "2023-09-01T02:21:03.651918",
     "exception": false,
     "start_time": "2023-09-01T02:21:02.455888",
     "status": "completed"
    },
    "tags": []
   },
   "outputs": [
    {
     "name": "stdout",
     "output_type": "stream",
     "text": [
      "7/7 [==============================] - 0s 57ms/step\n"
     ]
    },
    {
     "data": {
      "image/png": "[encoded data removed]",
      "text/plain": [
       "<Figure size 1200x600 with 1 Axes>"
      ]
     },
     "metadata": {},
     "output_type": "display_data"
    }
   ],
   "source": [
    "# Inverter a escala dos últimos 50 valores de treinamento reais\n",
    "y_train_true_last50 = sc_predict.inverse_transform(y_train[-200:])\n",
    "\n",
    "# Fazer a previsão dos últimos 50 valores usando o modelo\n",
    "X_train_last50 = X_train[-200:]\n",
    "y_train_pred_scaled_last50 = model.predict(X_train_last50)\n",
    "y_train_pred_last50 = sc_predict.inverse_transform(y_train_pred_scaled_last50)\n",
    "\n",
    "# Plotar os resultados\n",
    "plt.figure(figsize=(12, 6))\n",
    "plt.plot(y_train_true_last50, label='Valor Real')\n",
    "plt.plot(y_train_pred_last50, label='Previsão')\n",
    "plt.title('Últimos 50 Valores de Treinamento e Previsão')\n",
    "plt.xlabel('Índice do Ponto de Dados')\n",
    "plt.ylabel('Valor de Fechamento')\n",
    "plt.legend()\n",
    "plt.show()"
   ]
  }
 ],
 "kernelspec": {
  "display_name": "Python 3",
  "language": "python",
  "name": "python3"
 },
 "language_info": {
  "codemirror_mode": {
   "name": "ipython",
   "version": 3
  },
  "file_extension": ".py",
  "mimetype": "text/x-python",
  "name": "python",
  "nbconvert_exporter": "python",
  "pygments_lexer": "ipython3",
  "version": "3.6.4"
 },
 "metadata": {
  "kernelspec": {
   "display_name": "Python 3",
   "language": "python",
   "name": "python3"
  },
  "language_info": {
   "codemirror_mode": {
    "name": "ipython",
    "version": 3
   },
   "file_extension": ".py",
   "mimetype": "text/x-python",
   "name": "python",
   "nbconvert_exporter": "python",
   "pygments_lexer": "ipython3",
   "version": "3.10.12"
  },
  "papermill": {
   "default_parameters": {},
   "duration": 1478.577747,
   "end_time": "2023-09-01T02:21:06.987056",
   "environment_variables": {},
   "exception": null,
   "input_path": "__notebook__.ipynb",
   "output_path": "__notebook__.ipynb",
   "parameters": {},
   "start_time": "2023-09-01T01:56:28.409309",
   "version": "2.4.0"
  }
 },
 "nbformat": 4,
 "nbformat_minor": 5
}
